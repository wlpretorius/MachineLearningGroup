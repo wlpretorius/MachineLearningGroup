{
 "cells": [
  {
   "cell_type": "markdown",
   "metadata": {},
   "source": [
    "# Logistic Regression"
   ]
  },
  {
   "cell_type": "markdown",
   "metadata": {},
   "source": [
    "### Assumptions of Logistic Regression\n",
    "\n",
    "1. **Binary Outcome Variable**: The dependent variable in logistic regression is binary, meaning it has only two possible outcomes (e.g., success/failure, yes/no).\n",
    "\n",
    "2. **Independence**: The observations are independent of each other. This means that the outcome for one observation does not affect the outcome for another observation.\n",
    "\n",
    "3. **Linearity of Logit**: There is a linear relationship between the logit (the natural log of the odds) of the outcome and each predictor variable. This means that the predictors are linearly related to the log-odds of the dependent variable.\n",
    "\n",
    "4. **No Perfect Multicollinearity**: The independent variables are not perfectly collinear, which means there is no exact linear relationship among the predictors. High multicollinearity can make it difficult to determine the individual effect of each predictor.\n",
    "\n",
    "5. **Large Sample Size**: Logistic regression requires a large sample size to ensure that the maximum likelihood estimation procedure is reliable and the results are stable.\n",
    "\n",
    "6. **Appropriate Link Function**: Logistic regression uses the logit link function, which is appropriate for modeling a binary outcome.\n",
    "\n",
    "7. **Absence of Influential Outliers**: The model should not be unduly influenced by extreme values or outliers in the predictors, as they can disproportionately affect the model's estimates."
   ]
  },
  {
   "cell_type": "markdown",
   "metadata": {},
   "source": []
  },
  {
   "cell_type": "markdown",
   "metadata": {},
   "source": []
  }
 ],
 "metadata": {
  "language_info": {
   "name": "python"
  }
 },
 "nbformat": 4,
 "nbformat_minor": 2
}
